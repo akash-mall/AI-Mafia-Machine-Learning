{
 "cells": [
  {
   "cell_type": "code",
   "execution_count": 46,
   "metadata": {},
   "outputs": [],
   "source": [
    "from bs4 import BeautifulSoup as soup\n",
    "import requests\n",
    "import time"
   ]
  },
  {
   "cell_type": "code",
   "execution_count": 92,
   "metadata": {},
   "outputs": [],
   "source": [
    "url = \"http://books.toscrape.com/\"\n"
   ]
  },
  {
   "cell_type": "code",
   "execution_count": 93,
   "metadata": {},
   "outputs": [
    {
     "name": "stdout",
     "output_type": "stream",
     "text": [
      "<Response [200]>\n"
     ]
    }
   ],
   "source": [
    "cltreq = requests.get(url)\n",
    "print(cltreq)"
   ]
  },
  {
   "cell_type": "code",
   "execution_count": 94,
   "metadata": {},
   "outputs": [],
   "source": [
    "parsedHtml = soup(cltreq.content, 'lxml')"
   ]
  },
  {
   "cell_type": "code",
   "execution_count": 95,
   "metadata": {},
   "outputs": [],
   "source": [
    "def save_img(filename,response):\n",
    "    filename = \"./\"+filename\n",
    "    file = open(filename,\"wb\")\n",
    "    file.write(response.content)\n",
    "    file.close()"
   ]
  },
  {
   "cell_type": "code",
   "execution_count": 106,
   "metadata": {},
   "outputs": [],
   "source": [
    "images = parsedHtml.findAll('img')"
   ]
  },
  {
   "cell_type": "code",
   "execution_count": 105,
   "metadata": {},
   "outputs": [
    {
     "name": "stdout",
     "output_type": "stream",
     "text": [
      "http://books.toscrape.com/media/cache/2c/da/2cdad67c44b002e7ead0cc35693c0e8b.jpg\n",
      "A Light in the Attic.jpg\n",
      "http://books.toscrape.com/media/cache/26/0c/260c6ae16bce31c8f8c95daddd9f4a1c.jpg\n",
      "Tipping the Velvet.jpg\n",
      "http://books.toscrape.com/media/cache/3e/ef/3eef99c9d9adef34639f510662022830.jpg\n",
      "Soumission.jpg\n",
      "http://books.toscrape.com/media/cache/32/51/3251cf3a3412f53f339e42cac2134093.jpg\n",
      "Sharp Objects.jpg\n",
      "http://books.toscrape.com/media/cache/be/a5/bea5697f2534a2f86a3ef27b5a8c12a6.jpg\n",
      "Sapiens: A Brief History of Humankind.jpg\n",
      "http://books.toscrape.com/media/cache/68/33/68339b4c9bc034267e1da611ab3b34f8.jpg\n",
      "The Requiem Red.jpg\n",
      "http://books.toscrape.com/media/cache/92/27/92274a95b7c251fea59a2b8a78275ab4.jpg\n",
      "The Dirty Little Secrets of Getting Your Dream Job.jpg\n",
      "http://books.toscrape.com/media/cache/3d/54/3d54940e57e662c4dd1f3ff00c78cc64.jpg\n",
      "The Coming Woman: A Novel Based on the Life of the Infamous Feminist, Victoria Woodhull.jpg\n",
      "http://books.toscrape.com/media/cache/66/88/66883b91f6804b2323c8369331cb7dd1.jpg\n",
      "The Boys in the Boat: Nine Americans and Their Epic Quest for Gold at the 1936 Berlin Olympics.jpg\n",
      "http://books.toscrape.com/media/cache/58/46/5846057e28022268153beff6d352b06c.jpg\n",
      "The Black Maria.jpg\n",
      "http://books.toscrape.com/media/cache/be/f4/bef44da28c98f905a3ebec0b87be8530.jpg\n",
      "Starving Hearts (Triangular Trade Trilogy, #1).jpg\n",
      "http://books.toscrape.com/media/cache/10/48/1048f63d3b5061cd2f424d20b3f9b666.jpg\n",
      "Shakespeare's Sonnets.jpg\n",
      "http://books.toscrape.com/media/cache/5b/88/5b88c52633f53cacf162c15f4f823153.jpg\n",
      "Set Me Free.jpg\n",
      "http://books.toscrape.com/media/cache/94/b1/94b1b8b244bce9677c2f29ccc890d4d2.jpg\n",
      "Scott Pilgrim's Precious Little Life (Scott Pilgrim #1).jpg\n",
      "http://books.toscrape.com/media/cache/81/c4/81c4a973364e17d01f217e1188253d5e.jpg\n",
      "Rip it Up and Start Again.jpg\n",
      "http://books.toscrape.com/media/cache/54/60/54607fe8945897cdcced0044103b10b6.jpg\n",
      "Our Band Could Be Your Life: Scenes from the American Indie Underground, 1981-1991.jpg\n",
      "http://books.toscrape.com/media/cache/55/33/553310a7162dfbc2c6d19a84da0df9e1.jpg\n",
      "Olio.jpg\n",
      "http://books.toscrape.com/media/cache/09/a3/09a3aef48557576e1a85ba7efea8ecb7.jpg\n",
      "Mesaerion: The Best Science Fiction Stories 1800-1849.jpg\n",
      "http://books.toscrape.com/media/cache/0b/bc/0bbcd0a6f4bcd81ccb1049a52736406e.jpg\n",
      "Libertarianism for Beginners.jpg\n",
      "http://books.toscrape.com/media/cache/27/a5/27a53d0bb95bdd88288eaf66c9230d7e.jpg\n",
      "It's Only the Himalayas.jpg\n"
     ]
    }
   ],
   "source": [
    "for pic in images:\n",
    "    imageName = pic.get('alt')\n",
    "    imageSrc = pic.get('src') \n",
    "    if(imageName == None or imageSrc==None):\n",
    "        continue\n",
    "    imageName = imageName+imageSrc[-4:]\n",
    "    \n",
    "    i=0\n",
    "    header = \"http://books.toscrape.com/\"\n",
    "    while(imageSrc[i]=='/'):\n",
    "        i+=1\n",
    "    imageSrc = header+imageSrc[i:]\n",
    "    \n",
    "    try:\n",
    "        getImg = requests.get(imageSrc)\n",
    "        save_img(imageName,getImg)\n",
    "        print(imageSrc)\n",
    "        print(imageName) \n",
    "        getImg.close()\n",
    "        \n",
    "    except requests.exceptions.ConnectionError:\n",
    "        print(\"Connection refused\")\n",
    "        time.sleep(5)\n",
    "        continue\n",
    "    "
   ]
  },
  {
   "cell_type": "code",
   "execution_count": null,
   "metadata": {},
   "outputs": [],
   "source": []
  },
  {
   "cell_type": "code",
   "execution_count": null,
   "metadata": {},
   "outputs": [],
   "source": []
  }
 ],
 "metadata": {
  "kernelspec": {
   "display_name": "Python 3",
   "language": "python",
   "name": "python3"
  },
  "language_info": {
   "codemirror_mode": {
    "name": "ipython",
    "version": 3
   },
   "file_extension": ".py",
   "mimetype": "text/x-python",
   "name": "python",
   "nbconvert_exporter": "python",
   "pygments_lexer": "ipython3",
   "version": "3.7.4"
  }
 },
 "nbformat": 4,
 "nbformat_minor": 2
}
