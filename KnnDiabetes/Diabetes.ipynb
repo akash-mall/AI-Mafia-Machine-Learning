{
 "cells": [
  {
   "cell_type": "code",
   "execution_count": 1,
   "metadata": {},
   "outputs": [],
   "source": [
    "import numpy as np\n",
    "import pandas as pd\n",
    "import matplotlib.pyplot as plt\n"
   ]
  },
  {
   "cell_type": "code",
   "execution_count": 2,
   "metadata": {},
   "outputs": [
    {
     "data": {
      "text/plain": [
       "(576, 1)"
      ]
     },
     "execution_count": 2,
     "metadata": {},
     "output_type": "execute_result"
    }
   ],
   "source": [
    "dfx = pd.read_csv(\"./Train/Diabetes_XTrain.csv\")\n",
    "dfy = pd.read_csv(\"./Train/Diabetes_YTrain.csv\")\n",
    "dfxtest = pd.read_csv(\"./Test/Diabetes_XTest.csv\")\n",
    "dfy.shape\n"
   ]
  },
  {
   "cell_type": "code",
   "execution_count": 3,
   "metadata": {},
   "outputs": [],
   "source": [
    "x = dfx.values\n",
    "y = dfy.values.reshape(-1,)\n",
    "xt = dfxtest.values\n"
   ]
  },
  {
   "cell_type": "code",
   "execution_count": 4,
   "metadata": {},
   "outputs": [],
   "source": [
    "def distance(x,q):\n",
    "    return np.sqrt(sum((x-q)**2))"
   ]
  },
  {
   "cell_type": "code",
   "execution_count": 5,
   "metadata": {},
   "outputs": [],
   "source": [
    "def knn(x,y,q,k=25):\n",
    "    vals = []\n",
    "    for i in range(x.shape[0]):\n",
    "        d = distance(x[i],q)\n",
    "        vals.append((d,y[i]))\n",
    "    vals = sorted(vals)\n",
    "    vals = vals[:k]\n",
    "    vals = np.array(vals)\n",
    "    data = np.unique(vals[:,1],return_counts = True)\n",
    "    ind = data[1].argmax()\n",
    "    result = data[0][ind]\n",
    "    return int(result)"
   ]
  },
  {
   "cell_type": "code",
   "execution_count": 12,
   "metadata": {},
   "outputs": [],
   "source": [
    "def get_acc(x_tst,x,y):\n",
    "    \n",
    "    y_pred = []\n",
    "    cnt=0\n",
    "    for i in range(x_tst.shape[0]):\n",
    "        p = knn(x,y,x_tst[i])        \n",
    "        y_pred.append(p)\n",
    "    y_pred = np.array(y_pred)\n",
    "    \n",
    "    return  y_pred"
   ]
  },
  {
   "cell_type": "code",
   "execution_count": 13,
   "metadata": {},
   "outputs": [
    {
     "name": "stdout",
     "output_type": "stream",
     "text": [
      "[0 0 0 0 0 0 1 0 0 0 1 0 1 0 0 0 0 1 1 1 0 0 0 0 1 0 0 0 0 0 0 0 0 0 0 0 0\n",
      " 1 1 0 1 0 0 0 1 0 0 1 0 1 0 1 0 0 1 0 1 0 0 0 0 0 0 0 1 0 0 0 0 0 0 0 0 0\n",
      " 0 0 0 0 0 0 0 0 0 0 0 0 1 1 0 0 1 1 1 0 1 0 0 0 0 0 1 1 0 0 0 1 0 1 0 0 1\n",
      " 1 1 0 0 0 0 1 0 0 0 0 0 1 1 1 1 0 1 0 1 0 0 0 0 0 1 1 1 0 0 1 0 1 1 0 0 1\n",
      " 0 0 0 0 1 0 0 1 1 1 0 1 0 0 0 0 0 0 0 0 0 0 0 1 0 1 0 0 0 0 1 1 0 0 1 0 1\n",
      " 0 0 0 0 1 0 0]\n"
     ]
    }
   ],
   "source": [
    "query_point = x[3]\n",
    "\n",
    "res = get_acc(xt,x,y)\n",
    "print(res)"
   ]
  },
  {
   "cell_type": "code",
   "execution_count": 15,
   "metadata": {},
   "outputs": [
    {
     "name": "stdout",
     "output_type": "stream",
     "text": [
      "(array([0, 1]), array([136,  56], dtype=int64))\n",
      "136 56\n"
     ]
    }
   ],
   "source": [
    "output = np.unique(res,return_counts=True)\n",
    "print(output)\n",
    "cnt_0 = output[1][0]\n",
    "cnt_1 = output[1][1]\n",
    "print(cnt_0,cnt_1)"
   ]
  },
  {
   "cell_type": "code",
   "execution_count": 18,
   "metadata": {},
   "outputs": [
    {
     "data": {
      "image/png": "[encoded data removed]",
      "text/plain": [
       "<Figure size 432x288 with 1 Axes>"
      ]
     },
     "metadata": {
      "needs_background": "light"
     },
     "output_type": "display_data"
    }
   ],
   "source": [
    "labels = (\"Non-diabetic\",\"diabetic\")\n",
    "rangex = np.arange(len(labels))\n",
    "performance = [cnt_0,cnt_1]\n",
    "plt.bar(rangex, performance, align='center', alpha=0.5)\n",
    "plt.xticks(rangex, labels)\n",
    "plt.ylabel('Total Cases')\n",
    "plt.title('Diabetes Report')\n",
    "\n",
    "plt.show()"
   ]
  },
  {
   "cell_type": "code",
   "execution_count": null,
   "metadata": {},
   "outputs": [],
   "source": []
  }
 ],
 "metadata": {
  "kernelspec": {
   "display_name": "Python 3",
   "language": "python",
   "name": "python3"
  },
  "language_info": {
   "codemirror_mode": {
    "name": "ipython",
    "version": 3
   },
   "file_extension": ".py",
   "mimetype": "text/x-python",
   "name": "python",
   "nbconvert_exporter": "python",
   "pygments_lexer": "ipython3",
   "version": "3.7.4"
  }
 },
 "nbformat": 4,
 "nbformat_minor": 2
}
