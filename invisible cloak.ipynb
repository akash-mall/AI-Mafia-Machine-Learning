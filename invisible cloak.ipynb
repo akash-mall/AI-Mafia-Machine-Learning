{
 "cells": [
  {
   "cell_type": "code",
   "execution_count": 3,
   "metadata": {},
   "outputs": [],
   "source": [
    "import numpy as np\n",
    "import cv2 as cv\n",
    "import time"
   ]
  },
  {
   "cell_type": "code",
   "execution_count": 7,
   "metadata": {},
   "outputs": [],
   "source": [
    "cap = cv.VideoCapture(0)\n",
    "time.sleep(2)\n",
    "background = 0\n",
    "\n",
    "#capture the background\n",
    "for i in range(30):\n",
    "    ret, background = cap.read()\n",
    "while(cap.isOpened()):\n",
    "    ret, img = cap.read()\n",
    "    if not ret:\n",
    "        break\n",
    "    hsv = cv.cvtColor(img,cv.COLOR_BGR2HSV)\n",
    "    \n",
    "    lower_red = np.array([0,120,70])\n",
    "    upper_red = np.array([10,255,255])\n",
    "    mask1 = cv.inRange(hsv,lower_red,upper_red)\n",
    "    \n",
    "    lower_red = np.array([170,120,70])\n",
    "    upper_red = np.array([180,255,255])\n",
    "    mask2 = cv.inRange(hsv,lower_red,upper_red)\n",
    "    \n",
    "    mask1 = mask1+mask2\n",
    "    mask1 = cv.morphologyEx(mask1,cv.MORPH_OPEN,np.ones((3,3),np.uint8),iterations=2)\n",
    "    mask1 = cv.morphologyEx(mask1, cv.MORPH_DILATE, np.ones((3,3),np.uint8),iterations=1)\n",
    "    \n",
    "    mask2 = cv.bitwise_not(mask1)\n",
    "    res1 = cv.bitwise_and(background,background, mask = mask1)\n",
    "    res2 = cv.bitwise_and(img,img, mask = mask2)\n",
    "    final_output = cv.addWeighted(res1,1,res2,1,0)\n",
    "    cv.imshow(\"CLOAK\",final_output)\n",
    "    k = cv.waitKey(10)\n",
    "    if k==27:\n",
    "        break \n",
    "cap.release()\n",
    "cv.destroyAllWindows()\n",
    "    \n",
    "    "
   ]
  },
  {
   "cell_type": "code",
   "execution_count": null,
   "metadata": {},
   "outputs": [],
   "source": []
  }
 ],
 "metadata": {
  "kernelspec": {
   "display_name": "Python 3",
   "language": "python",
   "name": "python3"
  },
  "language_info": {
   "codemirror_mode": {
    "name": "ipython",
    "version": 3
   },
   "file_extension": ".py",
   "mimetype": "text/x-python",
   "name": "python",
   "nbconvert_exporter": "python",
   "pygments_lexer": "ipython3",
   "version": "3.7.4"
  }
 },
 "nbformat": 4,
 "nbformat_minor": 2
}
