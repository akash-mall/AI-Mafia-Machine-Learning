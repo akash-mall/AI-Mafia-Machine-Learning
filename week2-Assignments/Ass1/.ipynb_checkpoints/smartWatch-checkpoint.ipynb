{
 "cells": [
  {
   "cell_type": "code",
   "execution_count": 2,
   "metadata": {},
   "outputs": [],
   "source": [
    "import numpy as np\n",
    "import pandas as pd\n",
    "import matplotlib.pyplot as plt\n",
    "\n",
    "dfx = pd.read_csv('./Train_Data/Linear_X_Train.csv')\n",
    "dfy = pd.read_csv('./Train_Data/Linear_Y_Train.csv')\n",
    "dftx = pd.read_csv('./Test_Data/Linear_X_Test.csv')\n",
    "\n",
    "train_x = dfx.values.reshape((-1,))\n",
    "train_y = dfy.values.reshape((-1,))\n",
    "test_x = dftx.values.reshape((-1,))\n",
    "\n",
    "#Normalization\n",
    "X = (train_x-train_x.mean())/train_x.std()\n",
    "Y = train_y\n",
    "X1 = (test_x-test_x.mean())/test_x.std()\n"
   ]
  },
  {
   "cell_type": "code",
   "execution_count": 3,
   "metadata": {},
   "outputs": [
    {
     "data": {
      "image/png": "[encoded data removed]",
      "text/plain": [
       "<Figure size 432x288 with 1 Axes>"
      ]
     },
     "metadata": {
      "needs_background": "light"
     },
     "output_type": "display_data"
    }
   ],
   "source": [
    "plt.scatter(X,Y,color='red')\n",
    "plt.show()"
   ]
  },
  {
   "cell_type": "markdown",
   "metadata": {},
   "source": [
    " GRADIENT DESCENT ALGORITHM"
   ]
  },
  {
   "cell_type": "code",
   "execution_count": 6,
   "metadata": {},
   "outputs": [],
   "source": [
    "def hypothesis(x,theta):\n",
    "    return theta[0] + theta[1]*x\n",
    "\n",
    "def error(X,Y,theta):\n",
    "    \n",
    "    m = X.shape[0]\n",
    "    err = 0\n",
    "    \n",
    "    for i in range(m):\n",
    "        hx = hypothesis(X[i],theta)\n",
    "        err += ((hx-Y[i])**2)\n",
    "    \n",
    "    return err/(2*m)      \n",
    "\n",
    "def gradient(X,Y,theta):\n",
    "    \n",
    "    grad = np.zeros((2,))\n",
    "    m = X.shape[0]\n",
    "    \n",
    "    for i in range(m):\n",
    "        hx = hypothesis(X[i],theta)\n",
    "        grad[0] += ((hx-Y[i])/m)\n",
    "        grad[1] += (((hx-Y[i])*X[i])/m)\n",
    "    \n",
    "    return grad\n",
    "\n",
    "def gradientDescent(X,Y,learning_rate = 0.001):\n",
    "    #random theta\n",
    "    theta = np.array([0.5,75.0])\n",
    "    itr = 0\n",
    "    #lets start with 150\n",
    "    max_itr = 1000\n",
    "    \n",
    "    error_list = []\n",
    "    theta_list = []\n",
    "    \n",
    "    while(itr<=max_itr):\n",
    "        grad = gradient(X,Y,theta)\n",
    "        e = error(X,Y,theta)\n",
    "        error_list.append(e)\n",
    "        \n",
    "        theta_list.append((theta[0],theta[1]))\n",
    "        theta[0] = theta[0] - learning_rate*grad[0]\n",
    "        theta[1] = theta[1] - learning_rate*grad[1]\n",
    "        \n",
    "        itr += 1\n",
    "        \n",
    "    return theta,error_list, theta_list\n",
    "       "
   ]
  },
  {
   "cell_type": "code",
   "execution_count": 7,
   "metadata": {},
   "outputs": [],
   "source": [
    "final_theta, error_list, theta_list = gradientDescent(X,Y)"
   ]
  },
  {
   "cell_type": "code",
   "execution_count": null,
   "metadata": {},
   "outputs": [],
   "source": []
  },
  {
   "cell_type": "code",
   "execution_count": 8,
   "metadata": {},
   "outputs": [
    {
     "name": "stdout",
     "output_type": "stream",
     "text": [
      "[ 0.6163288  78.10372373]\n"
     ]
    }
   ],
   "source": [
    "print(final_theta)"
   ]
  },
  {
   "cell_type": "code",
   "execution_count": 9,
   "metadata": {},
   "outputs": [
    {
     "data": {
      "image/png": "[encoded data removed]",
      "text/plain": [
       "<Figure size 432x288 with 1 Axes>"
      ]
     },
     "metadata": {
      "needs_background": "light"
     },
     "output_type": "display_data"
    }
   ],
   "source": [
    "plt.scatter(X,Y,label = 'Training Data',color='red')\n",
    "plt.xlabel('time')\n",
    "plt.ylabel('Performance')\n",
    "plt.plot(X,hypothesis(X,final_theta),color = 'blue',label = 'Prediction')\n",
    "\n",
    "plt.legend()\n",
    "plt.show()"
   ]
  },
  {
   "cell_type": "code",
   "execution_count": null,
   "metadata": {},
   "outputs": [],
   "source": []
  },
  {
   "cell_type": "code",
   "execution_count": null,
   "metadata": {},
   "outputs": [],
   "source": []
  }
 ],
 "metadata": {
  "kernelspec": {
   "display_name": "Python 3",
   "language": "python",
   "name": "python3"
  },
  "language_info": {
   "codemirror_mode": {
    "name": "ipython",
    "version": 3
   },
   "file_extension": ".py",
   "mimetype": "text/x-python",
   "name": "python",
   "nbconvert_exporter": "python",
   "pygments_lexer": "ipython3",
   "version": "3.7.4"
  }
 },
 "nbformat": 4,
 "nbformat_minor": 2
}
